{
 "cells": [
  {
   "cell_type": "code",
   "execution_count": 10,
   "id": "68de6f2d",
   "metadata": {},
   "outputs": [
    {
     "name": "stdout",
     "output_type": "stream",
     "text": [
      "[[1 2]\n",
      " [2 6]]\n",
      "2\n"
     ]
    }
   ],
   "source": [
    "# to get dimension of the array\n",
    "arr = np.array([[1,2],[2,6]]) \n",
    "print(arr) \n",
    "print (arr.ndim) "
   ]
  },
  {
   "cell_type": "code",
   "execution_count": 11,
   "id": "3a3e8dce",
   "metadata": {},
   "outputs": [
    {
     "name": "stdout",
     "output_type": "stream",
     "text": [
      "8\n"
     ]
    }
   ],
   "source": [
    "# to get size\n",
    "arr = np.array([[1,3],[2,4]])\n",
    "print(arr.itemsize)"
   ]
  },
  {
   "cell_type": "code",
   "execution_count": 12,
   "id": "57aae55f",
   "metadata": {},
   "outputs": [
    {
     "name": "stdout",
     "output_type": "stream",
     "text": [
      "printing the original array..\n",
      "[[1 2]\n",
      " [3 4]\n",
      " [5 6]]\n",
      "printing the reshaped array..\n",
      "[[1 2 3]\n",
      " [4 5 6]]\n"
     ]
    }
   ],
   "source": [
    "# to reshape\n",
    "import numpy as np  \n",
    "a = np.array([[1,2],[3,4],[5,6]])  \n",
    "print(\"printing the original array..\")  \n",
    "print(a)  \n",
    "a=a.reshape(2,3)  \n",
    "print(\"printing the reshaped array..\")  \n",
    "print(a)  "
   ]
  },
  {
   "cell_type": "code",
   "execution_count": 13,
   "id": "a454f773",
   "metadata": {},
   "outputs": [
    {
     "name": "stdout",
     "output_type": "stream",
     "text": [
      "[[0 0]\n",
      " [0 0]\n",
      " [0 0]]\n"
     ]
    }
   ],
   "source": [
    "# it prints an array containing zeroes \n",
    "arr = np.zeros((3,2), dtype = int)  \n",
    "print(arr)  "
   ]
  },
  {
   "cell_type": "code",
   "execution_count": 14,
   "id": "dee7723e",
   "metadata": {},
   "outputs": [
    {
     "name": "stdout",
     "output_type": "stream",
     "text": [
      "[[1 1 1]\n",
      " [1 1 1]\n",
      " [1 1 1]\n",
      " [1 1 1]]\n"
     ]
    }
   ],
   "source": [
    "# it prints an array containing ones\n",
    "\n",
    "arr= np.ones((4,3),dtype=int) \n",
    "print(arr) "
   ]
  },
  {
   "cell_type": "code",
   "execution_count": 15,
   "id": "52c2865b",
   "metadata": {},
   "outputs": [
    {
     "name": "stdout",
     "output_type": "stream",
     "text": [
      "[0. 2. 4. 6.]\n",
      "<class 'numpy.ndarray'>\n"
     ]
    }
   ],
   "source": [
    "# creation of ndarray using iterable object\n",
    "list = [0,2,4,6]  \n",
    "it = iter(list)  \n",
    "x = np.fromiter(it, dtype = float)  \n",
    "print(x)  \n",
    "print(type(x))  "
   ]
  },
  {
   "cell_type": "code",
   "execution_count": 16,
   "id": "b005d622",
   "metadata": {},
   "outputs": [
    {
     "name": "stdout",
     "output_type": "stream",
     "text": [
      "<class 'bytes'>\n",
      "[b'h' b'e' b'l' b'l' b'o' b' ' b'w' b'o' b'r' b'l' b'd']\n"
     ]
    }
   ],
   "source": [
    "# using specifiedbuffer\n",
    "\n",
    "import numpy as np  \n",
    "l = b'hellooo'  \n",
    "print(type(l))  \n",
    "a = np.frombuffer(l, dtype = \"S1\")  \n",
    "print(a)  \n"
   ]
  },
  {
   "cell_type": "code",
   "execution_count": null,
   "id": "2f53667e",
   "metadata": {},
   "outputs": [],
   "source": [
    "# creates evenly spaced array using given interval\n",
    "arr = np.arange(0,10,2,float)  \n",
    "print(arr)  "
   ]
  },
  {
   "cell_type": "code",
   "execution_count": 20,
   "id": "7a478318",
   "metadata": {},
   "outputs": [
    {
     "name": "stdout",
     "output_type": "stream",
     "text": [
      "[[1 2]\n",
      " [3 4]\n",
      " [5 6]]\n"
     ]
    }
   ],
   "source": [
    "# empty array\n",
    "x = np.empty([3,2], dtype = int) \n",
    "print(x) "
   ]
  },
  {
   "cell_type": "code",
   "execution_count": 22,
   "id": "c0298f1c",
   "metadata": {},
   "outputs": [
    {
     "name": "stdout",
     "output_type": "stream",
     "text": [
      "First array:\n",
      "[[1 2 3]\n",
      " [4 5 6]]\n",
      "[1 2 3 4 5 6 7 8 9]\n"
     ]
    }
   ],
   "source": [
    "import numpy as np \n",
    "a = np.array([[1,2,3],[4,5,6]]) \n",
    "print ('First array:' ) \n",
    "print(a) \n",
    "print(np.append(a, [7,8,9]) ) "
   ]
  },
  {
   "cell_type": "code",
   "execution_count": null,
   "id": "e28879eb",
   "metadata": {},
   "outputs": [],
   "source": [
    "# random numbers array\n",
    "e = np.random.random((2, 2))\n",
    "print(e) "
   ]
  },
  {
   "cell_type": "code",
   "execution_count": null,
   "id": "96f1cdfa",
   "metadata": {},
   "outputs": [],
   "source": [
    "# to get datatype\n",
    "a = np.array([(1,2,3)])\n",
    "print(a.dtype)"
   ]
  },
  {
   "cell_type": "code",
   "execution_count": 5,
   "id": "8e9d14e1",
   "metadata": {},
   "outputs": [
    {
     "name": "stdout",
     "output_type": "stream",
     "text": [
      "1\n",
      "3\n",
      "6\n"
     ]
    }
   ],
   "source": [
    "# max, min and sum\n",
    "a= np.array([1,2,3])\n",
    "print(a.min())\n",
    "print(a.max())\n",
    "print(a.sum())"
   ]
  },
  {
   "cell_type": "code",
   "execution_count": 7,
   "id": "95c69397",
   "metadata": {},
   "outputs": [
    {
     "name": "stdout",
     "output_type": "stream",
     "text": [
      "[[16 16 16]\n",
      " [16 16 16]\n",
      " [16 16 16]\n",
      " [16 16 16]]\n"
     ]
    }
   ],
   "source": [
    "a=np.full((4,3),16)\n",
    "print(a) "
   ]
  },
  {
   "cell_type": "code",
   "execution_count": 9,
   "id": "a735230f",
   "metadata": {},
   "outputs": [
    {
     "name": "stdout",
     "output_type": "stream",
     "text": [
      "[[14 14 14]\n",
      " [14 14 14]\n",
      " [14 14 14]\n",
      " [14 14 14]]\n"
     ]
    }
   ],
   "source": [
    "b=np.full_like(a, 14)\n",
    "print(b) "
   ]
  },
  {
   "cell_type": "code",
   "execution_count": 10,
   "id": "2bde1113",
   "metadata": {},
   "outputs": [
    {
     "name": "stdout",
     "output_type": "stream",
     "text": [
      "[[1. 0. 0.]\n",
      " [0. 1. 0.]\n",
      " [0. 0. 1.]]\n"
     ]
    }
   ],
   "source": [
    "c=np.identity(3)\n",
    "print(c) "
   ]
  },
  {
   "cell_type": "code",
   "execution_count": 11,
   "id": "1c423bef",
   "metadata": {},
   "outputs": [
    {
     "name": "stdout",
     "output_type": "stream",
     "text": [
      "[[-0.28790332 -0.28790332 -0.28790332]\n",
      " [-0.28790332 -0.28790332 -0.28790332]\n",
      " [-0.28790332 -0.28790332 -0.28790332]\n",
      " [-0.28790332 -0.28790332 -0.28790332]]\n"
     ]
    }
   ],
   "source": [
    "d=np.sin(a) \n",
    "print(d) "
   ]
  },
  {
   "cell_type": "code",
   "execution_count": 12,
   "id": "e07d2ae0",
   "metadata": {},
   "outputs": [
    {
     "name": "stdout",
     "output_type": "stream",
     "text": [
      "[[0.95884132 0.95884132 0.95884132]\n",
      " [0.95884132 0.95884132 0.95884132]\n",
      " [0.95884132 0.95884132 0.95884132]\n",
      " [0.95884132 0.95884132 0.95884132]]\n"
     ]
    }
   ],
   "source": [
    "e=np.cos(d) \n",
    "print (e) "
   ]
  },
  {
   "cell_type": "code",
   "execution_count": 13,
   "id": "158af84f",
   "metadata": {},
   "outputs": [
    {
     "name": "stdout",
     "output_type": "stream",
     "text": [
      "38\n"
     ]
    }
   ],
   "source": [
    "a=np.array([1,2,4])\n",
    "b=np.array([4,5,6])\n",
    "c=np.matmul(a, b) \n",
    "print(c) "
   ]
  }
 ],
 "metadata": {
  "kernelspec": {
   "display_name": "Python 3 (ipykernel)",
   "language": "python",
   "name": "python3"
  },
  "language_info": {
   "codemirror_mode": {
    "name": "ipython",
    "version": 3
   },
   "file_extension": ".py",
   "mimetype": "text/x-python",
   "name": "python",
   "nbconvert_exporter": "python",
   "pygments_lexer": "ipython3",
   "version": "3.8.3"
  }
 },
 "nbformat": 4,
 "nbformat_minor": 5
}
